{
 "cells": [
  {
   "cell_type": "code",
   "execution_count": 2,
   "metadata": {},
   "outputs": [],
   "source": [
    "import numpy as np\n",
    "import glob\n",
    "import pandas as pd\n",
    "import math\n",
    "import pandas_profiling\n"
   ]
  },
  {
   "cell_type": "code",
   "execution_count": 3,
   "metadata": {},
   "outputs": [],
   "source": [
    "df = pd.read_csv('sample.csv')"
   ]
  },
  {
   "cell_type": "code",
   "execution_count": 1,
   "metadata": {},
   "outputs": [],
   "source": [
    "# df"
   ]
  },
  {
   "cell_type": "code",
   "execution_count": 5,
   "metadata": {},
   "outputs": [
    {
     "data": {
      "text/plain": [
       "Mujer     26\n",
       "Hombre    18\n",
       "Name: sexo, dtype: int64"
      ]
     },
     "execution_count": 5,
     "metadata": {},
     "output_type": "execute_result"
    }
   ],
   "source": [
    "df['sexo'].value_counts()"
   ]
  },
  {
   "cell_type": "code",
   "execution_count": 6,
   "metadata": {},
   "outputs": [
    {
     "data": {
      "text/plain": [
       "36-45    17\n",
       "26-35     8\n",
       "46-55     6\n",
       "65+       6\n",
       "18-25     3\n",
       "56-65     3\n",
       "Name: rango_edad, dtype: int64"
      ]
     },
     "execution_count": 6,
     "metadata": {},
     "output_type": "execute_result"
    }
   ],
   "source": [
    "df['rango_edad'].value_counts()"
   ]
  },
  {
   "cell_type": "code",
   "execution_count": 7,
   "metadata": {},
   "outputs": [
    {
     "data": {
      "text/plain": [
       "Urbano    39\n",
       "Rural      6\n",
       "Name: zona_residencia, dtype: int64"
      ]
     },
     "execution_count": 7,
     "metadata": {},
     "output_type": "execute_result"
    }
   ],
   "source": [
    "df['zona_residencia'].value_counts()"
   ]
  },
  {
   "cell_type": "code",
   "execution_count": 8,
   "metadata": {},
   "outputs": [
    {
     "data": {
      "text/plain": [
       "San Jacinto     10\n",
       "Carmelo          6\n",
       "Centro           4\n",
       "San Isidro       3\n",
       "Danubio          3\n",
       "Santa Lucia      2\n",
       "Soleto           2\n",
       "San Fernando     2\n",
       "Progreso         2\n",
       "Consolata        2\n",
       "REVISAR *        1\n",
       "Los Samanes      1\n",
       "Santa Rosa       1\n",
       "Name: vereda_barrio, dtype: int64"
      ]
     },
     "execution_count": 8,
     "metadata": {},
     "output_type": "execute_result"
    }
   ],
   "source": [
    "df['vereda_barrio'].value_counts()"
   ]
  },
  {
   "cell_type": "code",
   "execution_count": 9,
   "metadata": {},
   "outputs": [
    {
     "data": {
      "text/plain": [
       "Hogar                        13\n",
       "Empleado                     10\n",
       "Empleado, Comerciante         2\n",
       "Comerciante                   2\n",
       "Independiente                 2\n",
       "Mantenimiento general         1\n",
       "Maestro                       1\n",
       "Arquitecto                    1\n",
       "Productor Agricola            1\n",
       "Independiente (Ingeniero)     1\n",
       "Auxiliar de enfermeria        1\n",
       "Desempleado                   1\n",
       "Name: actividad_economica, dtype: int64"
      ]
     },
     "execution_count": 9,
     "metadata": {},
     "output_type": "execute_result"
    }
   ],
   "source": [
    "df['actividad_economica'].value_counts()"
   ]
  },
  {
   "cell_type": "code",
   "execution_count": 10,
   "metadata": {},
   "outputs": [
    {
     "data": {
      "text/plain": [
       "Primaria         19\n",
       "Secundaria       10\n",
       "Tecnico           7\n",
       "Universitario     7\n",
       "Tecnologo         2\n",
       "Posgrado          1\n",
       "Name: maximo_grado_escolaridad, dtype: int64"
      ]
     },
     "execution_count": 10,
     "metadata": {},
     "output_type": "execute_result"
    }
   ],
   "source": [
    "df['maximo_grado_escolaridad'].value_counts()"
   ]
  },
  {
   "cell_type": "code",
   "execution_count": 11,
   "metadata": {},
   "outputs": [
    {
     "data": {
      "text/plain": [
       "Falta de empleo                                          22\n",
       "Inseguridad                                               6\n",
       "Tecnificacion del campo                                   3\n",
       "Inseguridad, Falta de empleo                              3\n",
       "Todas                                                     3\n",
       "Falta de empleo, Calidad de la educacion                  1\n",
       "Tecnificacion del campo, Falta de empleo                  1\n",
       "inseguridad                                               1\n",
       "Inseguridad, Falta de empleo, Calidad en la educacion     1\n",
       "Calidad de la educacion                                   1\n",
       "Falta de empleo, Inseguridad                              1\n",
       "REVISAR*                                                  1\n",
       "Name: problema_tocaima, dtype: int64"
      ]
     },
     "execution_count": 11,
     "metadata": {},
     "output_type": "execute_result"
    }
   ],
   "source": [
    "df['problema_tocaima'].value_counts()"
   ]
  },
  {
   "cell_type": "code",
   "execution_count": 12,
   "metadata": {},
   "outputs": [
    {
     "data": {
      "text/plain": [
       "azul        10\n",
       "blanco       8\n",
       "verde        6\n",
       "rojo         5\n",
       "negro        5\n",
       "amarillo     4\n",
       "rosado       3\n",
       "fucsia       1\n",
       "Name: color_favorito, dtype: int64"
      ]
     },
     "execution_count": 12,
     "metadata": {},
     "output_type": "execute_result"
    }
   ],
   "source": [
    "df['color_favorito'].value_counts()"
   ]
  },
  {
   "cell_type": "code",
   "execution_count": 13,
   "metadata": {},
   "outputs": [
    {
     "data": {
      "text/plain": [
       "No                                                                                                11\n",
       "Julian Mora                                                                                        1\n",
       "Robinson Mora: Sencillo                                                                            1\n",
       "Robinson: preopotente, crecido, Stephany: Es una mujer que nos va a representar bien el pueblo     1\n",
       "Robinson: prepotente, Julian: Falta de liderazgo                                                   1\n",
       "Julian Mora, Robinson Mora, Hernan Herrera                                                         1\n",
       "Si, no tengo conocimiento aun de sus propuestas de trabajo                                         1\n",
       "Conozco 3 pero ninguno me convence                                                                 1\n",
       "Robinson Mora, Fabian Mora, Hernan Herrera                                                         1\n",
       "Julian Mora, Robinson Mora, Hernan Herrera, Fernando Afanador                                      1\n",
       "Mas o menos                                                                                        1\n",
       "Julian Mora, Robinson Mora                                                                         1\n",
       "Robinson Mora                                                                                      1\n",
       "Toca escuchar la opinion de cada uno de ellos                                                      1\n",
       "Name: precandidatos, dtype: int64"
      ]
     },
     "execution_count": 13,
     "metadata": {},
     "output_type": "execute_result"
    }
   ],
   "source": [
    "df['precandidatos'].value_counts()"
   ]
  },
  {
   "cell_type": "code",
   "execution_count": 2,
   "metadata": {},
   "outputs": [
    {
     "ename": "NameError",
     "evalue": "name 'df' is not defined",
     "output_type": "error",
     "traceback": [
      "\u001b[0;31m---------------------------------------------------------------------------\u001b[0m",
      "\u001b[0;31mNameError\u001b[0m                                 Traceback (most recent call last)",
      "\u001b[0;32m<ipython-input-2-98012fb81eaf>\u001b[0m in \u001b[0;36m<module>\u001b[0;34m()\u001b[0m\n\u001b[0;32m----> 1\u001b[0;31m \u001b[0mdf\u001b[0m\u001b[0;34m[\u001b[0m\u001b[0;34m'vota'\u001b[0m\u001b[0;34m]\u001b[0m\u001b[0;34m.\u001b[0m\u001b[0mvalue_counts\u001b[0m\u001b[0;34m(\u001b[0m\u001b[0;34m)\u001b[0m\u001b[0;34m\u001b[0m\u001b[0m\n\u001b[0m",
      "\u001b[0;31mNameError\u001b[0m: name 'df' is not defined"
     ]
    }
   ],
   "source": [
    "df['vota'].value_counts()"
   ]
  },
  {
   "cell_type": "code",
   "execution_count": 6,
   "metadata": {},
   "outputs": [
    {
     "data": {
      "text/plain": [
       "'hola'"
      ]
     },
     "execution_count": 6,
     "metadata": {},
     "output_type": "execute_result"
    }
   ],
   "source": [
    "\"hola | 208\".split(\"|\")[0].strip()"
   ]
  },
  {
   "cell_type": "code",
   "execution_count": null,
   "metadata": {},
   "outputs": [],
   "source": []
  }
 ],
 "metadata": {
  "kernelspec": {
   "display_name": "Python 3",
   "language": "python",
   "name": "python3"
  },
  "language_info": {
   "codemirror_mode": {
    "name": "ipython",
    "version": 3
   },
   "file_extension": ".py",
   "mimetype": "text/x-python",
   "name": "python",
   "nbconvert_exporter": "python",
   "pygments_lexer": "ipython3",
   "version": "3.6.4"
  }
 },
 "nbformat": 4,
 "nbformat_minor": 2
}
