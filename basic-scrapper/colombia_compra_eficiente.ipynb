{
 "cells": [
  {
   "cell_type": "markdown",
   "metadata": {},
   "source": [
    "# Documentation Scrapper Website 'Colombia Compra Eficiente'"
   ]
  },
  {
   "cell_type": "markdown",
   "metadata": {},
   "source": [
    "## Import required libraries"
   ]
  },
  {
   "cell_type": "code",
   "execution_count": 19,
   "metadata": {},
   "outputs": [],
   "source": [
    "# import libraries\n",
    "import csv\n",
    "from datetime import datetime\n",
    "import scrapy"
   ]
  },
  {
   "cell_type": "markdown",
   "metadata": {},
   "source": [
    "## Setup Scrapper\n",
    "* configure the main url\n",
    "* get the website structure"
   ]
  },
  {
   "cell_type": "code",
   "execution_count": 9,
   "metadata": {},
   "outputs": [],
   "source": [
    "data = []\n",
    "url = 'https://www.contratos.gov.co/consultas/listarProcesosConvocados.do'\n",
    "page = urlopen(url)\n",
    "time.sleep(10)\n",
    "soup = BeautifulSoup(page, 'html.parser')\n",
    "time.sleep(10)\n",
    "# Take out the <div> of name and get its value\n"
   ]
  },
  {
   "cell_type": "code",
   "execution_count": 13,
   "metadata": {},
   "outputs": [],
   "source": [
    "rows = soup.findAll('tr')"
   ]
  },
  {
   "cell_type": "code",
   "execution_count": 17,
   "metadata": {},
   "outputs": [
    {
     "data": {
      "text/plain": [
       "\n",
       "<html>\n",
       "<head>\n",
       "<title>Resultado de la Consulta</title>\n",
       "<!-- Script general -->\n",
       "<script language=\"JavaScript\" src=\"/puc/comun/js/generalMontos.js\" type=\"text/javascript\"></script>\n",
       "<meta content=\"text/html; charset=utf-8\" http-equiv=\"Content-Type\"/>\n",
       "<!-- CSS Generales -->\n",
       "<link href=\"/puc/comun/styles/general.css\" rel=\"stylesheet\" type=\"text/css\"/>\n",
       "<link href=\"/puc/comun/styles/pagina.css\" rel=\"stylesheet\" type=\"text/css\"/>\n",
       "<link href=\"/puc/comun/styles/modal-message.css\" rel=\"stylesheet\" type=\"text/css\"/>\n",
       "<link href=\"/puc/comun/styles/ESTILOS_PRC.CSS\" rel=\"stylesheet\" type=\"text/css\"/>\n",
       "<link href=\"/puc/comun/styles/secop/estilos_comunes.css\" rel=\"stylesheet\" type=\"text/css\"/>\n",
       "<link href=\"/puc/comun/styles/secop/estilos_entidades.css\" rel=\"stylesheet\" type=\"text/css\"/>\n",
       "<link href=\"/puc/comun/styles/tablas.css\" rel=\"stylesheet\" type=\"text/css\"/>\n",
       "<link href=\"/puc/comun/styles/formulario.css\" rel=\"stylesheet\" type=\"text/css\"/>\n",
       "<script>\n",
       "\t\t\tfunction onLoad() { }\n",
       "\t\t\tfunction wdetalle() {\n",
       "\t\t\t\ttry {\n",
       "\t\t\t\t\tdocument.getElementById('infdetalle').innerHTML = window.frames['detalle'].document.getElementById('contentbody').innerHTML;\n",
       "\t\t\t\t\twindow.location.href = \"#\";\n",
       "\t\t\t\t\tajustarMarcoMontos();\n",
       "\t\t\t\t} catch (eee) {\n",
       "\t\t\t\t\tdocument.getElementById('estadisticas').innerHTML = \"<div id='caja-datos'><br><b>En estos momentos no es posible presentar la información de la solicitud.</br><br><br><br></div>\";\n",
       "\t\t\t\t}\n",
       "\t\t\t}\n",
       "\t\t\tfunction wdetalleEstadisticas() {\n",
       "\t\t\t\ttry {\n",
       "\t\t\t\t\tdocument.getElementById('estadisticas').innerHTML = window.frames['resumen'].document.getElementById('contentbody').innerHTML;\n",
       "\t\t\t\t\tajustarMarcoMontos();\n",
       "\t\t\t\t} catch (eee) { }\n",
       "\t\t\t}\n",
       "\t\t\tfunction cargdetalle() {\n",
       "\t\t\t\tdocument.getElementById('infdetalle').innerHTML = \"<div id='caja-datos'><br><b>cargando..</br><br><br><br></div>\";\n",
       "\t\t\t}\n",
       "\t\t\tfunction paginaSiguiente() {\n",
       "\t\t\t\twindow.frames['detalle'].paginaSiguiente();\n",
       "\t\t\t\tajustarMarcoMontos();\n",
       "\t\t\t}\n",
       "\t\t\tfunction paginaAnterior() {\n",
       "\t\t\t\twindow.frames['detalle'].paginaAnterior();\n",
       "\t\t\t\tajustarMarcoMontos();\n",
       "\t\t\t}\n",
       "\t\t\tfunction irPagina(n) {\n",
       "\t\t\t\twindow.frames['detalle'].irPagina(n);\n",
       "\t\t\t\tajustarMarcoMontos();\n",
       "\t\t\t}\n",
       "\t\t</script>\n",
       "<link href=\"/entidades/comun/styles/modal-message.css\" rel=\"stylesheet\" type=\"text/css\"/>\n",
       "<script src=\"/entidades/comun/js/modal-message.js\" type=\"text/javascript\"></script>\n",
       "<script src=\"/entidades/comun/js/funcionesFormulario.js\" type=\"text/javascript\"></script>\n",
       "<script language=\"JavaScript\">\n",
       "\t\t\tfunction popUpSecop(urlSolicitud) {\n",
       "\t\t\t\tvar urlSecop = /pro.contratos.gov.co/i;\n",
       "\t\t\t\tvar urlEntrada = urlSolicitud;\n",
       "\t\t\t\tvar result = urlEntrada.search(urlSecop);\n",
       "\t\t\t\t\n",
       "\t\t\t\tif (result != -1) {\n",
       "\t\t\t\t\tpopUpConsultaProcesoSecop(urlSolicitud);\n",
       "\t\t\t\t} else {\n",
       "\t\t\t\t\twindow.open(urlSolicitud);\n",
       "\t\t\t\t}\n",
       "\t\t\t}\n",
       "\t\t</script>\n",
       "</head>\n",
       "<body onload=\"onLoad()\">\n",
       "<div id=\"contenidoCabezote\">\n",
       "<iframe frameborder=\"0\" id=\"frameCabezote\" scrolling=\"no\" src=\"/consultas/ServletCabezote\"></iframe>\n",
       "</div>\n",
       "<div id=\"supmarcoMontos\"></div>\n",
       "<div id=\"marcoMontos\">\n",
       "<div id=\"contenidoCentral\">\n",
       "<div id=\"seccionnormal\">\n",
       "<table align=\"center\" border=\"0\" cellpadding=\"0\" cellspacing=\"0\" width=\"95%\">\n",
       "<tbody>\n",
       "<tr>\n",
       "<td style=\"height: 39px;\">\n",
       "<table border=\"0\" cellpadding=\"0\" cellspacing=\"0\" class=\"gralTitulos\" id=\"Table2\" style=\"border-bottom: 1px solid rgb(214, 214, 214);\" width=\"100%\">\n",
       "<tbody>\n",
       "<tr>\n",
       "<td align=\"left\" width=\"70%\">Resultado de la Consulta</td>\n",
       "<td>\n",
       "<span align=\"right\" class=\"opcionesResultados\">[<a href=\"estadisticasProcesos?\" onclick=\"document.getElementById('estadisticas').innerHTML = '&lt;h2&gt;cargando...&lt;/h2&gt;';ajustarMarcoMontos();\" target=\"resumen\">Ver estadísticas de su consulta </a>] [<a href=\"inicioConsulta.do\"> Volver a buscar</a>]\n",
       "\t\t\t\t\t\t\t\t\t\t\t\t\t</span>\n",
       "</td>\n",
       "</tr>\n",
       "</tbody>\n",
       "</table>\n",
       "</td>\n",
       "</tr>\n",
       "</tbody>\n",
       "</table>\n",
       "<div id=\"estadisticas\"></div>\n",
       "<iframe frameborder=\"0\" height=\"0px\" name=\"resumen\" onload=\"wdetalleEstadisticas()\" src=\"\" width=\"0px\"></iframe>\n",
       "<center>\n",
       "<div class=\"grupoProcesos\">\n",
       "<div id=\"infdetalle\">\n",
       "<h2>cargando...</h2>\n",
       "</div>\n",
       "<iframe frameborder=\"0\" height=\"0px\" name=\"detalle\" onload=\"wdetalle()\" scrolling=\"no\" src=\"resultadosConsulta.do?\" width=\"0px\"></iframe>\n",
       "</div>\n",
       "</center>\n",
       "</div>\n",
       "</div>\n",
       "</div>\n",
       "<div id=\"infmarcoMontos\"></div>\n",
       "<div id=\"contenidoPie\">\n",
       "<iframe frameborder=\"0\" id=\"framePie\" scrolling=\"no\" src=\"/puc/pie.html\"></iframe>\n",
       "</div>\n",
       "</body>\n",
       "<script type=\"text/javascript\"> ajustarMarcoMontos(); </script>\n",
       "</html>"
      ]
     },
     "execution_count": 17,
     "metadata": {},
     "output_type": "execute_result"
    }
   ],
   "source": [
    "soup"
   ]
  },
  {
   "cell_type": "raw",
   "metadata": {},
   "source": []
  }
 ],
 "metadata": {
  "kernelspec": {
   "display_name": "Python 3",
   "language": "python",
   "name": "python3"
  },
  "language_info": {
   "codemirror_mode": {
    "name": "ipython",
    "version": 3
   },
   "file_extension": ".py",
   "mimetype": "text/x-python",
   "name": "python",
   "nbconvert_exporter": "python",
   "pygments_lexer": "ipython3",
   "version": "3.6.4"
  }
 },
 "nbformat": 4,
 "nbformat_minor": 2
}
