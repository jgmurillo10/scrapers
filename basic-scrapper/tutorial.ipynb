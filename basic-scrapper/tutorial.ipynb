{
 "cells": [
  {
   "cell_type": "code",
   "execution_count": 7,
   "metadata": {},
   "outputs": [
    {
     "name": "stdout",
     "output_type": "stream",
     "text": [
      "S&P 500 Index\n",
      "2,604.47\n"
     ]
    }
   ],
   "source": [
    "# import libraries\n",
    "from urllib.request import urlopen\n",
    "import csv\n",
    "from bs4 import BeautifulSoup\n",
    "from datetime import datetime\n",
    "quote_page = 'http://www.bloomberg.com/quote/SPX:IND'\n",
    "# query the website and return the html to the variable ‘page’\n",
    "page = urlopen(quote_page)\n",
    "# parse the html using beautiful soup and store in variable `soup`\n",
    "soup = BeautifulSoup(page, 'html.parser')\n",
    "# Take out the <div> of name and get its value\n",
    "name_box = soup.find('h1', attrs={'class': 'name'})\n",
    "name = name_box.text.strip() # strip() is used to remove starting and trailing\n",
    "print(name)\n",
    "\n",
    "# get the index price\n",
    "price_box = soup.find('div', attrs={'class':'price'})\n",
    "price = price_box.text\n",
    "print(price)\n",
    "\n",
    "# open a csv file with append, so old data will not be erased\n",
    "#with open('index.csv', 'a') as csv_file:\n",
    "# writer = csv.writer(csv_file)\n",
    "# open a csv file with append, so old data will not be erased\n",
    "with open('index.csv', 'a') as csv_file:\n",
    " writer = csv.writer(csv_file)\n",
    " writer.writerow([name, price, datetime.now()])"
   ]
  },
  {
   "cell_type": "code",
   "execution_count": null,
   "metadata": {},
   "outputs": [],
   "source": []
  },
  {
   "cell_type": "code",
   "execution_count": null,
   "metadata": {},
   "outputs": [],
   "source": []
  }
 ],
 "metadata": {
  "kernelspec": {
   "display_name": "Python 3",
   "language": "python",
   "name": "python3"
  },
  "language_info": {
   "codemirror_mode": {
    "name": "ipython",
    "version": 3
   },
   "file_extension": ".py",
   "mimetype": "text/x-python",
   "name": "python",
   "nbconvert_exporter": "python",
   "pygments_lexer": "ipython3",
   "version": "3.6.4"
  }
 },
 "nbformat": 4,
 "nbformat_minor": 2
}
